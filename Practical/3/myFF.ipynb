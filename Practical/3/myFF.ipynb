{
 "cells": [
  {
   "cell_type": "markdown",
   "metadata": {},
   "source": [
    "# Max Flow Applications\n",
    "\n",
    "The purpose of this assignment is to investigate applications of finding a Max Flow. The problem asks you to design and implement an algorithm for shipping a material between nodes with different supply and demand requirements.\n",
    "\n",
    "* Please write code *only* in the bodies of the two functions, that is, following the TODO comments.\n",
    "* Be careful not to use varibles defined outside of the functions.\n",
    "* Breaking the two above rules may lead to 0 grades."
   ]
  },
  {
   "cell_type": "markdown",
   "metadata": {},
   "source": [
    "# Movie distribution\n",
    "\n",
    "First solve Problem 1 from hw3-t. \n",
    "\n",
    "Now suppose a movie distributor would like to ship a copy of a film from CA to every other state. There are therefore 48 units to ship out of CA, and each other state receives 1 unit. \n",
    "\n",
    "The dataset contiguous-usa.dat lists the adjacent states in the US. Each line lists two adjacent states; thus AK and HI are omitted, but DC is included in the data. The following code reads in the graph of US states."
   ]
  },
  {
   "cell_type": "code",
   "execution_count": 1,
   "metadata": {},
   "outputs": [],
   "source": [
    "import networkx as nx\n",
    "G = nx.Graph()\n",
    "\n",
    "usa = open('contiguous-usa.dat')\n",
    "for line in usa:\n",
    "    s1, s2 = line.strip().split()\n",
    "    G.add_edge(s1, s2)"
   ]
  },
  {
   "cell_type": "markdown",
   "metadata": {},
   "source": [
    "We now encode the demands into the graph."
   ]
  },
  {
   "cell_type": "code",
   "execution_count": 2,
   "metadata": {},
   "outputs": [],
   "source": [
    "for state in G.nodes():\n",
    "    if state != 'CA':\n",
    "        G.nodes[state]['demand'] = 1\n",
    "G.nodes['CA']['demand'] = -48"
   ]
  },
  {
   "cell_type": "markdown",
   "metadata": {},
   "source": [
    "We will assign a uniform capacity of 16 to each edge. Since CA has only three adjacent states, this is the smallest possible uniform capacity that allows one to ship all 48 units out of CA. As we have created an undirected graph, and flows have directions, we first convert the graph to a directed graph."
   ]
  },
  {
   "cell_type": "code",
   "execution_count": 3,
   "metadata": {},
   "outputs": [],
   "source": [
    "G = nx.DiGraph(G)\n",
    "uniform_capacity = 16\n",
    "for (s1, s2) in G.edges():\n",
    "    G.edges[s1, s2]['capacity'] = uniform_capacity"
   ]
  },
  {
   "cell_type": "markdown",
   "metadata": {},
   "source": [
    "Complete the following function to implement your algorithm to find a flow with demands. Your function should work correctly for any input, not just the movie instance considered here. As always, you are encouraged to define auxiliary functions as needed for clarity."
   ]
  },
  {
   "cell_type": "code",
   "execution_count": 4,
   "metadata": {},
   "outputs": [],
   "source": [
    "def flow_with_demands(graph):\n",
    "    \"\"\"Computes a flow with demands over the given graph.\n",
    "    \n",
    "    Args:\n",
    "        graph: A directed graph with nodes annotated with 'demand' properties and edges annotated with 'capacity' \n",
    "            properties.\n",
    "        \n",
    "    Returns:\n",
    "        A dict of dicts containing the flow on each edge. For instance, flow[s1][s2] should provide the flow along\n",
    "        edge (s1, s2).\n",
    "        \n",
    "    Raises:\n",
    "        NetworkXUnfeasible: An error is thrown if there is no flow satisfying the demands.\n",
    "    \"\"\"    \n",
    "    # TODO: Implement the function.\n",
    "    def bfs(graph, source, sink):\n",
    "        queue, visited = [(source, [source])], [source]\n",
    "    #     print(queue)\n",
    "    #     print(visited)\n",
    "        while queue:\n",
    "            u, path = queue.pop(0)\n",
    "    #         print(u)\n",
    "            neighbour_nodes = set(graph[u].keys()) - set(path)\n",
    "    #        print(edge_nodes)\n",
    "            for v in neighbour_nodes:\n",
    "                if v in visited:\n",
    "                    continue\n",
    "                visited.append(v)\n",
    "\n",
    "                if not graph.has_edge(u, v):\n",
    "                    continue\n",
    "                elif v == sink:\n",
    "                    path = path  + [v]\n",
    "                    return path\n",
    "                else:\n",
    "                    queue.append((v, path + [v]))    \n",
    "                \n",
    "    def augment_flow(graph,R_graph,path):\n",
    "\n",
    "        path_capacity = min([graph[u][v]['capacity'] for u, v in zip(path[:-1], path[1:])])\n",
    "        for u,v in zip(path[:-1], path[1:]):\n",
    "            if R_graph.has_edge(u,v):\n",
    "                R_graph.edges[u,v]['flow']+=path_capacity\n",
    "            elif R_graph.has_edge(v,u):\n",
    "                R_graph.edges[v,u]['flow']-=path_capacity\n",
    "\n",
    "            updated_capacity = graph.edges[u,v]['capacity'] - path_capacity\n",
    "            if updated_capacity!=0:\n",
    "                graph.edges[u,v]['capacity']= updated_capacity\n",
    "            else:\n",
    "                graph.edges[u,v]['capacity']= updated_capacity\n",
    "                graph.remove_edge(u, v)\n",
    "            if (not graph.has_edge(v, u)) and path_capacity>0:\n",
    "                graph.add_edge(v, u)\n",
    "                graph.edges[v,u]['capacity']= updated_capacity\n",
    "        return graph,path_capacity\n",
    "\n",
    "\n",
    "    def ford_fulkerson(graph, source, sink):\n",
    "\n",
    "        path = bfs(graph, source, sink)\n",
    "        flows=0\n",
    "        R_graph = nx.DiGraph()\n",
    "        R_graph.add_edges_from(graph.edges())\n",
    "        for (s1, s2) in R_graph.edges():\n",
    "            R_graph.edges[s1,s2]['flow'] = 0\n",
    "        while path:\n",
    "            graph,value = augment_flow(graph, R_graph, path)\n",
    "            flows+=value\n",
    "            #print(value)\n",
    "            path = bfs(graph, source, sink)\n",
    "        #building the flow dictionary corresponding to the max flow.\n",
    "        data = {}\n",
    "        data = data.fromkeys(R_graph.nodes())\n",
    "        for keys in data.keys():\n",
    "            data[keys]={}\n",
    "        for u,v in R_graph.edges():\n",
    "            data[u].update({v:R_graph.edges[u,v][\"flow\"]})\n",
    "        return data,flows\n",
    "    \n",
    "    R_graph = nx.Graph()\n",
    "    R_graph.add_edges_from(graph.edges())\n",
    "    R_graph= nx.DiGraph(R_graph)\n",
    "    for (s1, s2) in graph.edges():\n",
    "        R_graph.edges[s1, s2]['capacity'] = graph.edges[s1, s2]['capacity']\n",
    "    totalDemand=0\n",
    "    totalSupply=0\n",
    "    for state in list(graph.nodes()):\n",
    "        #print(graph.nodes[state]['demand'])\n",
    "        if graph.nodes[state]['demand'] >= 0:\n",
    "            R_graph.add_edge(state, \"SINK\")\n",
    "            R_graph.edges[state, \"SINK\"]['capacity'] = graph.nodes[state]['demand']\n",
    "            totalDemand += graph.nodes[state]['demand']\n",
    "        else:\n",
    "            R_graph.add_edge(\"SOURCE\",state)\n",
    "            R_graph.edges[\"SOURCE\",state]['capacity'] = -graph.nodes[state]['demand']\n",
    "            totalSupply +=(-1* graph.nodes[state]['demand'])\n",
    "    flow_dict, flow_value1 = (ford_fulkerson(R_graph,\"SOURCE\",\"SINK\"))\n",
    "    flow_dict = {i:flow_dict[i] for i in flow_dict if (i!=\"SOURCE\" )}\n",
    "    flow_dict = {i:flow_dict[i] for i in flow_dict if (i!=\"SINK\" )}\n",
    "    for j in flow_dict.keys():\n",
    "        flow_dict[j]= {i:flow_dict[j][i] for i in flow_dict[j] if  i!=\"SINK\"}\n",
    "        flow_dict[j]= {i:flow_dict[j][i] for i in flow_dict[j] if  i!=\"SOURCE\"}\n",
    "    \n",
    "    if totalSupply==totalDemand:\n",
    "        return flow_dict\n",
    "    else:\n",
    "        raise nx.NetworkXUnfeasible('There is no flow satisfying the demands.')"
   ]
  },
  {
   "cell_type": "markdown",
   "metadata": {},
   "source": [
    "To verify that your solution is correct, implement a function that computes the total flow into each node (which will be negative for supply nodes)."
   ]
  },
  {
   "cell_type": "code",
   "execution_count": 5,
   "metadata": {},
   "outputs": [],
   "source": [
    "def divergence(flow):\n",
    "    \"\"\"Computes the total flow into each node according to the given flow dict.\n",
    "    \n",
    "    Args:\n",
    "        flow: the flow dict recording flow between nodes.\n",
    "        \n",
    "    Returns:\n",
    "        A dict of the net flow into each node.\n",
    "    \"\"\"\n",
    "    # TODO: Implement the function.\n",
    "    \n",
    "    list_nodes=[]\n",
    "    for node in flow:\n",
    "        #if node not in [\"SINK\",\"SOURCE\"]:\n",
    "        list_nodes.append(node)\n",
    "    dictResult = dict.fromkeys(list_nodes,0)\n",
    "    for i  in flow:\n",
    "        #if i not in [\"SINK\",\"SOURCE\"]:\n",
    "        for j in flow[i]:\n",
    "            #if j not in [\"SINK\",\"SOURCE\"]:\n",
    "            dictResult[j]+=flow[i][j]\n",
    "            dictResult[i]-=flow[i][j]\n",
    "\n",
    "    return dictResult"
   ]
  },
  {
   "cell_type": "markdown",
   "metadata": {},
   "source": [
    "The following code performs a sanity check on your function (but does not completely confirm correctness)."
   ]
  },
  {
   "cell_type": "code",
   "execution_count": 6,
   "metadata": {},
   "outputs": [
    {
     "name": "stdout",
     "output_type": "stream",
     "text": [
      "Flow satisfies all demands: True\n"
     ]
    }
   ],
   "source": [
    "flow = flow_with_demands(G)\n",
    "div = divergence(flow)\n",
    "print(\"Flow satisfies all demands:\", all(div[n] == G.node[n]['demand'] for n in G.nodes()))"
   ]
  },
  {
   "cell_type": "code",
   "execution_count": 7,
   "metadata": {},
   "outputs": [
    {
     "data": {
      "text/plain": [
       "{'AL': {'FL': 0, 'GA': 0, 'MS': 0, 'TN': 0},\n",
       " 'FL': {'AL': 0, 'GA': 0},\n",
       " 'GA': {'AL': 0, 'FL': 1, 'NC': 0, 'SC': 1, 'TN': 0},\n",
       " 'MS': {'AL': 1, 'AR': 0, 'LA': 0, 'TN': 0},\n",
       " 'TN': {'AL': 0,\n",
       "  'GA': 3,\n",
       "  'MS': 0,\n",
       "  'AR': 0,\n",
       "  'KY': 0,\n",
       "  'MO': 0,\n",
       "  'NC': 1,\n",
       "  'VA': 1},\n",
       " 'NC': {'GA': 0, 'TN': 0, 'VA': 0, 'SC': 0},\n",
       " 'SC': {'GA': 0, 'NC': 0},\n",
       " 'AR': {'MS': 2, 'TN': 4, 'LA': 0, 'MO': 0, 'OK': 0, 'TX': 0},\n",
       " 'LA': {'MS': 0, 'AR': 0, 'TX': 0},\n",
       " 'KY': {'TN': 0, 'MO': 0, 'VA': 1, 'IL': 0, 'IN': 0, 'OH': 1, 'WV': 12},\n",
       " 'MO': {'TN': 2,\n",
       "  'AR': 0,\n",
       "  'IA': 0,\n",
       "  'IL': 2,\n",
       "  'KS': 0,\n",
       "  'KY': 15,\n",
       "  'NE': 0,\n",
       "  'OK': 0},\n",
       " 'VA': {'TN': 0, 'DC': 1, 'MD': 0, 'KY': 0, 'NC': 0, 'WV': 0},\n",
       " 'OK': {'AR': 7, 'MO': 6, 'CO': 0, 'KS': 0, 'NM': 0, 'TX': 0},\n",
       " 'TX': {'AR': 0, 'LA': 1, 'OK': 0, 'NM': 0},\n",
       " 'IL': {'MO': 0, 'IA': 0, 'IN': 1, 'KY': 0, 'WI': 0},\n",
       " 'IN': {'IL': 0, 'KY': 0, 'MI': 0, 'OH': 0},\n",
       " 'OH': {'PA': 0, 'IN': 0, 'KY': 0, 'MI': 0, 'WV': 0},\n",
       " 'WV': {'MD': 1, 'VA': 0, 'PA': 10, 'KY': 0, 'OH': 0},\n",
       " 'IA': {'MO': 0, 'NE': 0, 'IL': 0, 'MN': 0, 'SD': 0, 'WI': 2},\n",
       " 'KS': {'MO': 0, 'OK': 0, 'CO': 0, 'NE': 0},\n",
       " 'NE': {'MO': 14, 'CO': 0, 'KS': 0, 'IA': 0, 'SD': 0, 'WY': 0},\n",
       " 'DC': {'MD': 0, 'VA': 0},\n",
       " 'MD': {'DC': 0, 'DE': 0, 'PA': 0, 'VA': 0, 'WV': 0},\n",
       " 'CO': {'OK': 1, 'NM': 0, 'UT': 0, 'KS': 1, 'NE': 0, 'WY': 0},\n",
       " 'NM': {'OK': 13, 'TX': 2, 'AZ': 0, 'CO': 0},\n",
       " 'MN': {'IA': 0, 'ND': 0, 'SD': 0, 'WI': 0},\n",
       " 'SD': {'NE': 0, 'WY': 0, 'IA': 3, 'MN': 1, 'MT': 0, 'ND': 0},\n",
       " 'WI': {'IA': 0, 'IL': 0, 'MN': 0, 'MI': 1},\n",
       " 'WY': {'UT': 0, 'CO': 0, 'NE': 15, 'ID': 0, 'MT': 0, 'SD': 0},\n",
       " 'UT': {'AZ': 0, 'NV': 0, 'CO': 3, 'ID': 0, 'WY': 0},\n",
       " 'AZ': {'CA': 0, 'NM': 16, 'NV': 0, 'UT': 0},\n",
       " 'CA': {'AZ': 16, 'NV': 16, 'OR': 16},\n",
       " 'NV': {'AZ': 1, 'CA': 0, 'ID': 11, 'OR': 0, 'UT': 4},\n",
       " 'OR': {'CA': 0, 'NV': 1, 'ID': 13, 'WA': 1},\n",
       " 'ID': {'NV': 0, 'UT': 0, 'OR': 0, 'WY': 16, 'MT': 7, 'WA': 0},\n",
       " 'WA': {'OR': 0, 'ID': 0},\n",
       " 'MT': {'WY': 0, 'SD': 5, 'ID': 0, 'ND': 1},\n",
       " 'ND': {'MN': 0, 'SD': 0, 'MT': 0},\n",
       " 'CT': {'MA': 0, 'NY': 0, 'RI': 1},\n",
       " 'MA': {'CT': 0, 'NH': 0, 'NY': 0, 'RI': 0, 'VT': 0},\n",
       " 'NY': {'CT': 2, 'MA': 1, 'NJ': 0, 'PA': 0, 'VT': 3},\n",
       " 'RI': {'CT': 0, 'MA': 0},\n",
       " 'NH': {'MA': 0, 'ME': 1, 'VT': 0},\n",
       " 'VT': {'MA': 0, 'NY': 0, 'NH': 2},\n",
       " 'NJ': {'NY': 0, 'DE': 0, 'PA': 0},\n",
       " 'PA': {'NY': 7, 'MD': 0, 'DE': 1, 'NJ': 1, 'OH': 0, 'WV': 0},\n",
       " 'ME': {'NH': 0},\n",
       " 'DE': {'MD': 0, 'NJ': 0, 'PA': 0},\n",
       " 'MI': {'WI': 0, 'IN': 0, 'OH': 0}}"
      ]
     },
     "execution_count": 7,
     "metadata": {},
     "output_type": "execute_result"
    }
   ],
   "source": [
    "flow"
   ]
  },
  {
   "cell_type": "code",
   "execution_count": null,
   "metadata": {},
   "outputs": [],
   "source": []
  }
 ],
 "metadata": {
  "kernelspec": {
   "display_name": "Python 3",
   "language": "python",
   "name": "python3"
  },
  "language_info": {
   "codemirror_mode": {
    "name": "ipython",
    "version": 3
   },
   "file_extension": ".py",
   "mimetype": "text/x-python",
   "name": "python",
   "nbconvert_exporter": "python",
   "pygments_lexer": "ipython3",
   "version": "3.6.8"
  }
 },
 "nbformat": 4,
 "nbformat_minor": 1
}
