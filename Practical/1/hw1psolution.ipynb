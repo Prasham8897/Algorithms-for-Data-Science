{
 "cells": [
  {
   "cell_type": "markdown",
   "metadata": {},
   "source": [
    "# Connected Components\n",
    "\n",
    "The purpose of this assignment is to familiarize yourself with the handling of graph data structures. You will implement depth-first search for identifying the connected components of an undirected graph, implementing procedure Search as a subroutine along the way.\n",
    "\n",
    "You will use the [NetworkX](https://networkx.github.io/) Python package to represent and manipulate graphs. You should first familiarize yourself with its functionality by going through the brief [tutorial](http://networkx.github.io/documentation/networkx-1.9.1/tutorial/index.html). For this homework, you may only use the basic undirected graph methods listed [here](http://networkx.github.io/documentation/networkx-1.9.1/reference/classes.graph.html).\n",
    "\n",
    "As a use case, we will work with a dataset recording the interactions between characters in Homer's *Iliad*."
   ]
  },
  {
   "cell_type": "code",
   "execution_count": 1,
   "metadata": {},
   "outputs": [],
   "source": [
    "import networkx\n",
    "from urllib.request import urlopen\n",
    "homer = urlopen('http://people.sc.fsu.edu/~jburkardt/datasets/sgb/homer.dat')\n",
    "homer = [line.decode('utf-8') for line in homer]"
   ]
  },
  {
   "cell_type": "markdown",
   "metadata": {},
   "source": [
    "The format of the data is straightforward. After some comment lines (beginning with \\*), the file lists a codename for each character (i.e., node of the graph), followed by a description. The file then lists the groups of characters that interact in each chapter, from which you will form the edges. For instance, the first line has the form:\n",
    "\n",
    "```1:CH,AG,ME,GS;AP,CH;HE,AC;AC,AG,CA;HE,AT;AT,AC;AT,OG;NE,AG,AC;CS,OD```\n",
    "\n",
    "This means that CH,AG,ME,GS interacted, so there are edges for all pairs of these nodes. Groups of characters that interacted are separated by semicolons. The lines start with chapter information of the form `1:` or `&:`, which can be ignored for this problem."
   ]
  },
  {
   "cell_type": "markdown",
   "metadata": {},
   "source": [
    "First implement a function to read in the nodes from the input file. You may implement any auxiliary functions as needed, and are encouraged to use small functions with specific purposes to keep your code readable. Any function you implement should be clearly commented."
   ]
  },
  {
   "cell_type": "markdown",
   "metadata": {},
   "source": [
    "Next implement a function to read in the edges from the input file."
   ]
  },
  {
   "cell_type": "code",
   "execution_count": 2,
   "metadata": {},
   "outputs": [],
   "source": [
    "def read_nodes(gfile):\n",
    "    \"\"\"Reads in the nodes of the graph from the input file.\n",
    "    \n",
    "    Args:\n",
    "        gfile: A handle for the file containing the graph data, starting at the top.\n",
    "        \n",
    "    Returns:\n",
    "        A generator of the nodes in the graph, yielding a list of the form:\n",
    "            ['CH', 'AG, 'ME', ...]\n",
    "    \"\"\"\n",
    "    nodes=[] # Declaring an empty list to which all nodes would be added\n",
    "    node=\"\"\n",
    "    for line in gfile:\n",
    "        if (not(':' in line) and not('*' in line) and not(len(line.strip()) == 0)): #Empty lines and lines with '*', ':' don't have nodes in them.\n",
    "            for character in line:\n",
    "                if(character==\" \"): #Each of the nodes have muliple characters and hence they are added to the list when any empty character is found\n",
    "                    nodes.append(node) # Appending the node to our Nodes List\n",
    "                    node=\"\"\n",
    "                    break\n",
    "                else:\n",
    "                    node=node + character  #Appending character of the node name          \n",
    "    return nodes"
   ]
  },
  {
   "cell_type": "code",
   "execution_count": 3,
   "metadata": {},
   "outputs": [],
   "source": [
    "def read_edges(gfile):\n",
    "    \"\"\"Reads in the edges of the graph from the input file.\n",
    "    \n",
    "    Args:\n",
    "        gfile: A handle for the file containing the graph data, starting at the top \n",
    "            of the edges section.\n",
    "            \n",
    "    Returns:\n",
    "        A generator of the edges in the graph, yielding a list of pairs of the form:\n",
    "            [('CH', 'AG'), ('AG', 'ME'), ...]\n",
    "    \"\"\"\n",
    "    edges=[]# Declaring an empty list to which all edges in tuple form would be added\n",
    "    for line in gfile:\n",
    "        if((':' in line) and not('*' in line) and not(len(line.strip()) == 0)):#Empty lines and lines with '*' don't have edges in them. Aldo, lines having edges in them must have ':' in it.\n",
    "            #Splitting the line by ':' and taking the index 1 element that is everything after ':' as there is only one ':' in it. \n",
    "            #Further that part is splitted by ';' as edges interacting groups are seperated in such a way\n",
    "            for setEdge in line.split(':')[1].split(';'): \n",
    "                # Each interacting component in the group are seperated by ',' and hence we split them by ','\n",
    "                edgeList = setEdge.split(',')\n",
    "                # Each node in the interacting group interacts with every other node in the group and hence for creating the edges we run 2 for loops.\n",
    "                for i in range(len(edgeList)):\n",
    "                    for j in range(i+1,len(edgeList)):\n",
    "                        edges.append(tuple([edgeList[i].strip(),edgeList[j].strip()]))\n",
    "    return edges"
   ]
  },
  {
   "cell_type": "markdown",
   "metadata": {},
   "source": [
    "The following code should now correctly create the graph."
   ]
  },
  {
   "cell_type": "code",
   "execution_count": 4,
   "metadata": {},
   "outputs": [],
   "source": [
    "import networkx as nx\n",
    "G = nx.Graph()\n",
    "G.add_nodes_from(read_nodes(homer))\n",
    "G.add_edges_from(read_edges(homer))"
   ]
  },
  {
   "cell_type": "markdown",
   "metadata": {},
   "source": [
    "Next implement procedure Search. The function takes in a graph and a root node, and returns a list of the nodes visited during the search. The nodes should appear in the order in which they were *first visited*. The neighbors of a node should be processed in *alphabetical order*, where numbers come before letters. This will ensure that the output of your function is uniquely defined, given any input node."
   ]
  },
  {
   "cell_type": "code",
   "execution_count": 5,
   "metadata": {},
   "outputs": [],
   "source": [
    "def Search(graph, root):\n",
    "    \"\"\"Runs Search from vertex root in a graph. Neighboring nodes are processed in alphabetical order.\n",
    "    Args:\n",
    "        graph: the given graph, with nodes encoded as strings.\n",
    "        root: the node from which to start the search.  \n",
    "    Returns:\n",
    "        A list of nodes in the order in which they were first visited.\n",
    "    \"\"\"    \n",
    "    def Depth_First_Search(graph,root,node_visited):\n",
    "        \"\"\"Runs A helper function to run recursively the procedure for performing Depth First Search.\n",
    "        Args:\n",
    "            graph: the given graph, with nodes encoded as strings.\n",
    "            root: the node from which to start the search. \n",
    "            node_visited: A dictionary that maintains the boolean value for whether a node is previously visited or not.\n",
    "        Returns:\n",
    "            A list of nodes in the order in which they were first visited.\n",
    "        \"\"\"\n",
    "        \n",
    "        # Setting the corresponding value for the root node in the visited array as True.\n",
    "        node_visited[root]=True\n",
    "        #An empty list which would store nodes in order they are visited.\n",
    "        path=[]\n",
    "        #Adding root to the list as it is the first node to be visited.\n",
    "        path.append(root)\n",
    "        \n",
    "        #recursively running the procedure for all the neighboring nodes (Processed in an alphbetically sorted order)\n",
    "        for neighbor in sorted(list(graph.neighbors(root))):\n",
    "            #Visit the node only if it is not visited\n",
    "            if(not(node_visited[neighbor])):\n",
    "                #Setting the visited value for the specific node as True.\n",
    "                node_visited[neighbor]=True\n",
    "                #recursive call to Depth_First_Search making the neighbor node as root and appending the path from it to our initial path.\n",
    "                path1=Depth_First_Search(graph,neighbor,node_visited)\n",
    "                for node in path1:\n",
    "                    path.append(node)\n",
    "        return path\n",
    "    \n",
    "    #Extracting the list og nodes in the given graph\n",
    "    nodes=list(graph.nodes)\n",
    "    \n",
    "    #initiating an empty dictionary and as initially all of them are not visited all the values corresponding to the nodes are set False.\n",
    "    node_visited={}\n",
    "    for node in nodes:\n",
    "        node_visited[node]=False\n",
    "    #Call to the helper function.\n",
    "    path=Depth_First_Search(graph,root,node_visited)        \n",
    "    return path  "
   ]
  },
  {
   "cell_type": "markdown",
   "metadata": {},
   "source": [
    "We will check the correctness of your code by verifying that it correctly computes the DFS tree starting at Ulysses (node `OD`)."
   ]
  },
  {
   "cell_type": "code",
   "execution_count": 6,
   "metadata": {},
   "outputs": [],
   "source": [
    "ulysses = Search(G, 'OD')"
   ]
  },
  {
   "cell_type": "markdown",
   "metadata": {},
   "source": [
    "Next implement DFS to find the connected components of the character graph. When choosing roots for your components, always pick the *smallest unvisited node* according to alphabetical ordering. Combined with your Search routine, this will ensure that the output is again uniquely defined."
   ]
  },
  {
   "cell_type": "code",
   "execution_count": 7,
   "metadata": {},
   "outputs": [],
   "source": [
    "def connected_components(graph):\n",
    "    \"\"\"Computes the connected components of the given graph.\n",
    "    \n",
    "    Args: \n",
    "        graph: the given graph, with nodes encoded as strings.\n",
    "        \n",
    "    Returns:\n",
    "        The connected components of the graph. Components are listed in\n",
    "        alphabetical order of their root nodes.\n",
    "    \"\"\"\n",
    "    # A list to hold list of connected components\n",
    "    components=[]\n",
    "    \n",
    "    #Getting all the nodes of the graph in alphabetically sorted order.\n",
    "    nodes=sorted(list(graph.nodes()))\n",
    "    \n",
    "    #initiating an empty dictionary and as initially all of them are not visited all the values corresponding to the nodes are set False.\n",
    "    node_visited={}\n",
    "    for node in nodes:\n",
    "        node_visited[node]=False\n",
    "    \n",
    "    #We need to find all connected components and hence The Search procedure is called untill all the nodes are visited.\n",
    "    #The path returned by a Search call for one node represents the connected components for that node and hence are appended to the list of components\n",
    "    for node in nodes:\n",
    "        if(not(node_visited[node])):\n",
    "            path=Search(graph,node)\n",
    "            for element in path:\n",
    "                node_visited[element]=True\n",
    "            components.append(path)\n",
    "    return components"
   ]
  },
  {
   "cell_type": "markdown",
   "metadata": {},
   "source": [
    "We will check correctness of your code by verifying that your output list is identical to our solution."
   ]
  },
  {
   "cell_type": "code",
   "execution_count": 8,
   "metadata": {},
   "outputs": [],
   "source": [
    "character_interactions = connected_components(G)"
   ]
  },
  {
   "cell_type": "markdown",
   "metadata": {},
   "source": [
    "As a preliminary check, you should find that the following statements are all true."
   ]
  },
  {
   "cell_type": "code",
   "execution_count": 9,
   "metadata": {},
   "outputs": [
    {
     "name": "stdout",
     "output_type": "stream",
     "text": [
      "There are 12 connected components in the Iliad:True\n",
      "The giant component has size 542:True\n",
      "There are 5 isolated characters:True\n"
     ]
    }
   ],
   "source": [
    "component_sizes = [len(c) for c in character_interactions]\n",
    "print(\"There are 12 connected components in the Iliad:{}\".format(len(component_sizes) == 12))\n",
    "print(\"The giant component has size 542:{}\".format(max(component_sizes) == 542))\n",
    "print(\"There are 5 isolated characters:{}\".format(len([c for c in component_sizes if c == 1]) == 5))"
   ]
  },
  {
   "cell_type": "code",
   "execution_count": null,
   "metadata": {},
   "outputs": [],
   "source": []
  }
 ],
 "metadata": {
  "kernelspec": {
   "display_name": "Python 3",
   "language": "python",
   "name": "python3"
  },
  "language_info": {
   "codemirror_mode": {
    "name": "ipython",
    "version": 3
   },
   "file_extension": ".py",
   "mimetype": "text/x-python",
   "name": "python",
   "nbconvert_exporter": "python",
   "pygments_lexer": "ipython3",
   "version": "3.6.8"
  }
 },
 "nbformat": 4,
 "nbformat_minor": 1
}
